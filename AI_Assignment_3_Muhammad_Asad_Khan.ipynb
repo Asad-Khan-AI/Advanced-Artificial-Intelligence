{
  "cells": [
    {
      "cell_type": "markdown",
      "metadata": {
        "id": "view-in-github",
        "colab_type": "text"
      },
      "source": [
        "<a href=\"https://colab.research.google.com/github/Asad-Khan-AI/Advanced-Artificial-Intelligence/blob/main/AI_Assignment_3_Muhammad_Asad_Khan.ipynb\" target=\"_parent\"><img src=\"https://colab.research.google.com/assets/colab-badge.svg\" alt=\"Open In Colab\"/></a>"
      ]
    },
    {
      "cell_type": "markdown",
      "metadata": {
        "id": "0h3Zjzw-ePA6"
      },
      "source": [
        "## **AI ASSIGNMENT 3:**\n",
        "\n",
        "# Graphical Representation using Node2Vec for Recommender System.\n",
        "\n",
        "**The Team:**\n",
        "\n",
        "MUHAMMAD ASAD KHAN - 910038 ( Team Lead ).\n",
        "\n",
        "RAKESH RANKAWAT    - 910040.\n",
        "\n",
        "AAYUSH BAJPAI      - 911190."
      ]
    },
    {
      "cell_type": "markdown",
      "metadata": {
        "id": "l1hGh5AmERaT"
      },
      "source": [
        "## Introduction\n",
        "\n",
        "\n",
        "\n",
        "Introduction\n",
        "Graph representation learning creates embeddings for nodes in a graph, useful for tasks like predicting labels and links. We use WORD2VEC model on the small Movielens dataset to learn movie embeddings. Movies are nodes, and edges connect movies with similar user ratings. These embeddings help in recommending movies or predicting genres."
      ]
    },
    {
      "cell_type": "markdown",
      "metadata": {
        "id": "F_tEcNxfERaV"
      },
      "source": [
        "## Setup"
      ]
    },
    {
      "cell_type": "code",
      "execution_count": null,
      "metadata": {
        "id": "Li_IuW8qERaX",
        "colab": {
          "base_uri": "https://localhost:8080/"
        },
        "outputId": "663e5153-75fd-4d79-f62f-2c60ef117511"
      },
      "outputs": [
        {
          "output_type": "stream",
          "name": "stdout",
          "text": [
            "Requirement already satisfied: networkx in /usr/local/lib/python3.10/dist-packages (3.3)\n"
          ]
        }
      ],
      "source": [
        "import os\n",
        "from collections import defaultdict\n",
        "import math\n",
        "import networkx as nx\n",
        "import random\n",
        "from tqdm import tqdm\n",
        "from zipfile import ZipFile\n",
        "from urllib.request import urlretrieve\n",
        "import numpy as np\n",
        "import pandas as pd\n",
        "import tensorflow as tf\n",
        "from tensorflow import keras\n",
        "from tensorflow.keras import layers\n",
        "import matplotlib.pyplot as plt\n",
        "!pip install networkx"
      ]
    },
    {
      "cell_type": "markdown",
      "metadata": {
        "id": "JKNZG14QERaZ"
      },
      "source": [
        "## Download the MovieLens dataset and prepare the data\n",
        "\n",
        "The small version of the MovieLens dataset includes around 100k ratings\n",
        "from 610 users on 9,742 movies.\n"
      ]
    },
    {
      "cell_type": "code",
      "execution_count": null,
      "metadata": {
        "id": "51z_I11wERaZ"
      },
      "outputs": [],
      "source": [
        "urlretrieve(\n",
        "    \"http://files.grouplens.org/datasets/movielens/ml-latest-small.zip\", \"movielens.zip\"\n",
        ")\n",
        "ZipFile(\"movielens.zip\", \"r\").extractall()"
      ]
    },
    {
      "cell_type": "markdown",
      "metadata": {
        "id": "NnQDSpovERaa"
      },
      "source": [
        "Then, we load the data into a Pandas DataFrame and perform some basic preprocessing."
      ]
    },
    {
      "cell_type": "code",
      "execution_count": null,
      "metadata": {
        "colab": {
          "base_uri": "https://localhost:8080/"
        },
        "id": "tDfirIMrERab",
        "outputId": "a00d6fad-44d5-4b36-99b5-58c93e3184cc"
      },
      "outputs": [
        {
          "output_type": "stream",
          "name": "stdout",
          "text": [
            "Movies data shape: (9742, 3)\n",
            "Ratings data shape: (100836, 4)\n"
          ]
        }
      ],
      "source": [
        "# Load movies to a DataFrame.\n",
        "movies = pd.read_csv(\"ml-latest-small/movies.csv\")\n",
        "# Create a `movieId` string.\n",
        "movies[\"movieId\"] = movies[\"movieId\"].apply(lambda x: f\"movie_{x}\")\n",
        "\n",
        "# Load ratings to a DataFrame.\n",
        "ratings = pd.read_csv(\"ml-latest-small/ratings.csv\")\n",
        "# Convert the `ratings` to floating point\n",
        "ratings[\"rating\"] = ratings[\"rating\"].apply(lambda x: float(x))\n",
        "# Create the `movie_id` string.\n",
        "ratings[\"movieId\"] = ratings[\"movieId\"].apply(lambda x: f\"movie_{x}\")\n",
        "\n",
        "print(\"Movies data shape:\", movies.shape)\n",
        "print(\"Ratings data shape:\", ratings.shape)"
      ]
    },
    {
      "cell_type": "markdown",
      "metadata": {
        "id": "jQKU47S0ERab"
      },
      "source": [
        "Let's inspect a sample instance of the `ratings` DataFrame."
      ]
    },
    {
      "cell_type": "code",
      "execution_count": null,
      "metadata": {
        "colab": {
          "base_uri": "https://localhost:8080/",
          "height": 206
        },
        "id": "6UL12pgQERac",
        "outputId": "d1750fa2-a4a3-4377-e6f4-d81920b329b5"
      },
      "outputs": [
        {
          "output_type": "execute_result",
          "data": {
            "text/plain": [
              "   userId   movieId  rating  timestamp\n",
              "0       1   movie_1     4.0  964982703\n",
              "1       1   movie_3     4.0  964981247\n",
              "2       1   movie_6     4.0  964982224\n",
              "3       1  movie_47     5.0  964983815\n",
              "4       1  movie_50     5.0  964982931"
            ],
            "text/html": [
              "\n",
              "  <div id=\"df-c9d78baa-3391-4253-8806-ecb1251dc407\" class=\"colab-df-container\">\n",
              "    <div>\n",
              "<style scoped>\n",
              "    .dataframe tbody tr th:only-of-type {\n",
              "        vertical-align: middle;\n",
              "    }\n",
              "\n",
              "    .dataframe tbody tr th {\n",
              "        vertical-align: top;\n",
              "    }\n",
              "\n",
              "    .dataframe thead th {\n",
              "        text-align: right;\n",
              "    }\n",
              "</style>\n",
              "<table border=\"1\" class=\"dataframe\">\n",
              "  <thead>\n",
              "    <tr style=\"text-align: right;\">\n",
              "      <th></th>\n",
              "      <th>userId</th>\n",
              "      <th>movieId</th>\n",
              "      <th>rating</th>\n",
              "      <th>timestamp</th>\n",
              "    </tr>\n",
              "  </thead>\n",
              "  <tbody>\n",
              "    <tr>\n",
              "      <th>0</th>\n",
              "      <td>1</td>\n",
              "      <td>movie_1</td>\n",
              "      <td>4.0</td>\n",
              "      <td>964982703</td>\n",
              "    </tr>\n",
              "    <tr>\n",
              "      <th>1</th>\n",
              "      <td>1</td>\n",
              "      <td>movie_3</td>\n",
              "      <td>4.0</td>\n",
              "      <td>964981247</td>\n",
              "    </tr>\n",
              "    <tr>\n",
              "      <th>2</th>\n",
              "      <td>1</td>\n",
              "      <td>movie_6</td>\n",
              "      <td>4.0</td>\n",
              "      <td>964982224</td>\n",
              "    </tr>\n",
              "    <tr>\n",
              "      <th>3</th>\n",
              "      <td>1</td>\n",
              "      <td>movie_47</td>\n",
              "      <td>5.0</td>\n",
              "      <td>964983815</td>\n",
              "    </tr>\n",
              "    <tr>\n",
              "      <th>4</th>\n",
              "      <td>1</td>\n",
              "      <td>movie_50</td>\n",
              "      <td>5.0</td>\n",
              "      <td>964982931</td>\n",
              "    </tr>\n",
              "  </tbody>\n",
              "</table>\n",
              "</div>\n",
              "    <div class=\"colab-df-buttons\">\n",
              "\n",
              "  <div class=\"colab-df-container\">\n",
              "    <button class=\"colab-df-convert\" onclick=\"convertToInteractive('df-c9d78baa-3391-4253-8806-ecb1251dc407')\"\n",
              "            title=\"Convert this dataframe to an interactive table.\"\n",
              "            style=\"display:none;\">\n",
              "\n",
              "  <svg xmlns=\"http://www.w3.org/2000/svg\" height=\"24px\" viewBox=\"0 -960 960 960\">\n",
              "    <path d=\"M120-120v-720h720v720H120Zm60-500h600v-160H180v160Zm220 220h160v-160H400v160Zm0 220h160v-160H400v160ZM180-400h160v-160H180v160Zm440 0h160v-160H620v160ZM180-180h160v-160H180v160Zm440 0h160v-160H620v160Z\"/>\n",
              "  </svg>\n",
              "    </button>\n",
              "\n",
              "  <style>\n",
              "    .colab-df-container {\n",
              "      display:flex;\n",
              "      gap: 12px;\n",
              "    }\n",
              "\n",
              "    .colab-df-convert {\n",
              "      background-color: #E8F0FE;\n",
              "      border: none;\n",
              "      border-radius: 50%;\n",
              "      cursor: pointer;\n",
              "      display: none;\n",
              "      fill: #1967D2;\n",
              "      height: 32px;\n",
              "      padding: 0 0 0 0;\n",
              "      width: 32px;\n",
              "    }\n",
              "\n",
              "    .colab-df-convert:hover {\n",
              "      background-color: #E2EBFA;\n",
              "      box-shadow: 0px 1px 2px rgba(60, 64, 67, 0.3), 0px 1px 3px 1px rgba(60, 64, 67, 0.15);\n",
              "      fill: #174EA6;\n",
              "    }\n",
              "\n",
              "    .colab-df-buttons div {\n",
              "      margin-bottom: 4px;\n",
              "    }\n",
              "\n",
              "    [theme=dark] .colab-df-convert {\n",
              "      background-color: #3B4455;\n",
              "      fill: #D2E3FC;\n",
              "    }\n",
              "\n",
              "    [theme=dark] .colab-df-convert:hover {\n",
              "      background-color: #434B5C;\n",
              "      box-shadow: 0px 1px 3px 1px rgba(0, 0, 0, 0.15);\n",
              "      filter: drop-shadow(0px 1px 2px rgba(0, 0, 0, 0.3));\n",
              "      fill: #FFFFFF;\n",
              "    }\n",
              "  </style>\n",
              "\n",
              "    <script>\n",
              "      const buttonEl =\n",
              "        document.querySelector('#df-c9d78baa-3391-4253-8806-ecb1251dc407 button.colab-df-convert');\n",
              "      buttonEl.style.display =\n",
              "        google.colab.kernel.accessAllowed ? 'block' : 'none';\n",
              "\n",
              "      async function convertToInteractive(key) {\n",
              "        const element = document.querySelector('#df-c9d78baa-3391-4253-8806-ecb1251dc407');\n",
              "        const dataTable =\n",
              "          await google.colab.kernel.invokeFunction('convertToInteractive',\n",
              "                                                    [key], {});\n",
              "        if (!dataTable) return;\n",
              "\n",
              "        const docLinkHtml = 'Like what you see? Visit the ' +\n",
              "          '<a target=\"_blank\" href=https://colab.research.google.com/notebooks/data_table.ipynb>data table notebook</a>'\n",
              "          + ' to learn more about interactive tables.';\n",
              "        element.innerHTML = '';\n",
              "        dataTable['output_type'] = 'display_data';\n",
              "        await google.colab.output.renderOutput(dataTable, element);\n",
              "        const docLink = document.createElement('div');\n",
              "        docLink.innerHTML = docLinkHtml;\n",
              "        element.appendChild(docLink);\n",
              "      }\n",
              "    </script>\n",
              "  </div>\n",
              "\n",
              "\n",
              "<div id=\"df-83266eda-5e3f-4a94-a79f-0d0040eded7e\">\n",
              "  <button class=\"colab-df-quickchart\" onclick=\"quickchart('df-83266eda-5e3f-4a94-a79f-0d0040eded7e')\"\n",
              "            title=\"Suggest charts\"\n",
              "            style=\"display:none;\">\n",
              "\n",
              "<svg xmlns=\"http://www.w3.org/2000/svg\" height=\"24px\"viewBox=\"0 0 24 24\"\n",
              "     width=\"24px\">\n",
              "    <g>\n",
              "        <path d=\"M19 3H5c-1.1 0-2 .9-2 2v14c0 1.1.9 2 2 2h14c1.1 0 2-.9 2-2V5c0-1.1-.9-2-2-2zM9 17H7v-7h2v7zm4 0h-2V7h2v10zm4 0h-2v-4h2v4z\"/>\n",
              "    </g>\n",
              "</svg>\n",
              "  </button>\n",
              "\n",
              "<style>\n",
              "  .colab-df-quickchart {\n",
              "      --bg-color: #E8F0FE;\n",
              "      --fill-color: #1967D2;\n",
              "      --hover-bg-color: #E2EBFA;\n",
              "      --hover-fill-color: #174EA6;\n",
              "      --disabled-fill-color: #AAA;\n",
              "      --disabled-bg-color: #DDD;\n",
              "  }\n",
              "\n",
              "  [theme=dark] .colab-df-quickchart {\n",
              "      --bg-color: #3B4455;\n",
              "      --fill-color: #D2E3FC;\n",
              "      --hover-bg-color: #434B5C;\n",
              "      --hover-fill-color: #FFFFFF;\n",
              "      --disabled-bg-color: #3B4455;\n",
              "      --disabled-fill-color: #666;\n",
              "  }\n",
              "\n",
              "  .colab-df-quickchart {\n",
              "    background-color: var(--bg-color);\n",
              "    border: none;\n",
              "    border-radius: 50%;\n",
              "    cursor: pointer;\n",
              "    display: none;\n",
              "    fill: var(--fill-color);\n",
              "    height: 32px;\n",
              "    padding: 0;\n",
              "    width: 32px;\n",
              "  }\n",
              "\n",
              "  .colab-df-quickchart:hover {\n",
              "    background-color: var(--hover-bg-color);\n",
              "    box-shadow: 0 1px 2px rgba(60, 64, 67, 0.3), 0 1px 3px 1px rgba(60, 64, 67, 0.15);\n",
              "    fill: var(--button-hover-fill-color);\n",
              "  }\n",
              "\n",
              "  .colab-df-quickchart-complete:disabled,\n",
              "  .colab-df-quickchart-complete:disabled:hover {\n",
              "    background-color: var(--disabled-bg-color);\n",
              "    fill: var(--disabled-fill-color);\n",
              "    box-shadow: none;\n",
              "  }\n",
              "\n",
              "  .colab-df-spinner {\n",
              "    border: 2px solid var(--fill-color);\n",
              "    border-color: transparent;\n",
              "    border-bottom-color: var(--fill-color);\n",
              "    animation:\n",
              "      spin 1s steps(1) infinite;\n",
              "  }\n",
              "\n",
              "  @keyframes spin {\n",
              "    0% {\n",
              "      border-color: transparent;\n",
              "      border-bottom-color: var(--fill-color);\n",
              "      border-left-color: var(--fill-color);\n",
              "    }\n",
              "    20% {\n",
              "      border-color: transparent;\n",
              "      border-left-color: var(--fill-color);\n",
              "      border-top-color: var(--fill-color);\n",
              "    }\n",
              "    30% {\n",
              "      border-color: transparent;\n",
              "      border-left-color: var(--fill-color);\n",
              "      border-top-color: var(--fill-color);\n",
              "      border-right-color: var(--fill-color);\n",
              "    }\n",
              "    40% {\n",
              "      border-color: transparent;\n",
              "      border-right-color: var(--fill-color);\n",
              "      border-top-color: var(--fill-color);\n",
              "    }\n",
              "    60% {\n",
              "      border-color: transparent;\n",
              "      border-right-color: var(--fill-color);\n",
              "    }\n",
              "    80% {\n",
              "      border-color: transparent;\n",
              "      border-right-color: var(--fill-color);\n",
              "      border-bottom-color: var(--fill-color);\n",
              "    }\n",
              "    90% {\n",
              "      border-color: transparent;\n",
              "      border-bottom-color: var(--fill-color);\n",
              "    }\n",
              "  }\n",
              "</style>\n",
              "\n",
              "  <script>\n",
              "    async function quickchart(key) {\n",
              "      const quickchartButtonEl =\n",
              "        document.querySelector('#' + key + ' button');\n",
              "      quickchartButtonEl.disabled = true;  // To prevent multiple clicks.\n",
              "      quickchartButtonEl.classList.add('colab-df-spinner');\n",
              "      try {\n",
              "        const charts = await google.colab.kernel.invokeFunction(\n",
              "            'suggestCharts', [key], {});\n",
              "      } catch (error) {\n",
              "        console.error('Error during call to suggestCharts:', error);\n",
              "      }\n",
              "      quickchartButtonEl.classList.remove('colab-df-spinner');\n",
              "      quickchartButtonEl.classList.add('colab-df-quickchart-complete');\n",
              "    }\n",
              "    (() => {\n",
              "      let quickchartButtonEl =\n",
              "        document.querySelector('#df-83266eda-5e3f-4a94-a79f-0d0040eded7e button');\n",
              "      quickchartButtonEl.style.display =\n",
              "        google.colab.kernel.accessAllowed ? 'block' : 'none';\n",
              "    })();\n",
              "  </script>\n",
              "</div>\n",
              "    </div>\n",
              "  </div>\n"
            ],
            "application/vnd.google.colaboratory.intrinsic+json": {
              "type": "dataframe",
              "variable_name": "ratings"
            }
          },
          "metadata": {},
          "execution_count": 34
        }
      ],
      "source": [
        "ratings.head()"
      ]
    },
    {
      "cell_type": "markdown",
      "metadata": {
        "id": "JZIwuC32ERad"
      },
      "source": [
        "Next, let's check a sample instance of the `movies` DataFrame."
      ]
    },
    {
      "cell_type": "code",
      "execution_count": null,
      "metadata": {
        "colab": {
          "base_uri": "https://localhost:8080/",
          "height": 206
        },
        "id": "4uqfQtLfERad",
        "outputId": "1793c882-c8c2-4b7c-a9df-a60a84131a95"
      },
      "outputs": [
        {
          "output_type": "execute_result",
          "data": {
            "text/plain": [
              "   movieId                               title  \\\n",
              "0  movie_1                    Toy Story (1995)   \n",
              "1  movie_2                      Jumanji (1995)   \n",
              "2  movie_3             Grumpier Old Men (1995)   \n",
              "3  movie_4            Waiting to Exhale (1995)   \n",
              "4  movie_5  Father of the Bride Part II (1995)   \n",
              "\n",
              "                                        genres  \n",
              "0  Adventure|Animation|Children|Comedy|Fantasy  \n",
              "1                   Adventure|Children|Fantasy  \n",
              "2                               Comedy|Romance  \n",
              "3                         Comedy|Drama|Romance  \n",
              "4                                       Comedy  "
            ],
            "text/html": [
              "\n",
              "  <div id=\"df-69ef4ec6-847c-401d-a0d7-f27287faa01a\" class=\"colab-df-container\">\n",
              "    <div>\n",
              "<style scoped>\n",
              "    .dataframe tbody tr th:only-of-type {\n",
              "        vertical-align: middle;\n",
              "    }\n",
              "\n",
              "    .dataframe tbody tr th {\n",
              "        vertical-align: top;\n",
              "    }\n",
              "\n",
              "    .dataframe thead th {\n",
              "        text-align: right;\n",
              "    }\n",
              "</style>\n",
              "<table border=\"1\" class=\"dataframe\">\n",
              "  <thead>\n",
              "    <tr style=\"text-align: right;\">\n",
              "      <th></th>\n",
              "      <th>movieId</th>\n",
              "      <th>title</th>\n",
              "      <th>genres</th>\n",
              "    </tr>\n",
              "  </thead>\n",
              "  <tbody>\n",
              "    <tr>\n",
              "      <th>0</th>\n",
              "      <td>movie_1</td>\n",
              "      <td>Toy Story (1995)</td>\n",
              "      <td>Adventure|Animation|Children|Comedy|Fantasy</td>\n",
              "    </tr>\n",
              "    <tr>\n",
              "      <th>1</th>\n",
              "      <td>movie_2</td>\n",
              "      <td>Jumanji (1995)</td>\n",
              "      <td>Adventure|Children|Fantasy</td>\n",
              "    </tr>\n",
              "    <tr>\n",
              "      <th>2</th>\n",
              "      <td>movie_3</td>\n",
              "      <td>Grumpier Old Men (1995)</td>\n",
              "      <td>Comedy|Romance</td>\n",
              "    </tr>\n",
              "    <tr>\n",
              "      <th>3</th>\n",
              "      <td>movie_4</td>\n",
              "      <td>Waiting to Exhale (1995)</td>\n",
              "      <td>Comedy|Drama|Romance</td>\n",
              "    </tr>\n",
              "    <tr>\n",
              "      <th>4</th>\n",
              "      <td>movie_5</td>\n",
              "      <td>Father of the Bride Part II (1995)</td>\n",
              "      <td>Comedy</td>\n",
              "    </tr>\n",
              "  </tbody>\n",
              "</table>\n",
              "</div>\n",
              "    <div class=\"colab-df-buttons\">\n",
              "\n",
              "  <div class=\"colab-df-container\">\n",
              "    <button class=\"colab-df-convert\" onclick=\"convertToInteractive('df-69ef4ec6-847c-401d-a0d7-f27287faa01a')\"\n",
              "            title=\"Convert this dataframe to an interactive table.\"\n",
              "            style=\"display:none;\">\n",
              "\n",
              "  <svg xmlns=\"http://www.w3.org/2000/svg\" height=\"24px\" viewBox=\"0 -960 960 960\">\n",
              "    <path d=\"M120-120v-720h720v720H120Zm60-500h600v-160H180v160Zm220 220h160v-160H400v160Zm0 220h160v-160H400v160ZM180-400h160v-160H180v160Zm440 0h160v-160H620v160ZM180-180h160v-160H180v160Zm440 0h160v-160H620v160Z\"/>\n",
              "  </svg>\n",
              "    </button>\n",
              "\n",
              "  <style>\n",
              "    .colab-df-container {\n",
              "      display:flex;\n",
              "      gap: 12px;\n",
              "    }\n",
              "\n",
              "    .colab-df-convert {\n",
              "      background-color: #E8F0FE;\n",
              "      border: none;\n",
              "      border-radius: 50%;\n",
              "      cursor: pointer;\n",
              "      display: none;\n",
              "      fill: #1967D2;\n",
              "      height: 32px;\n",
              "      padding: 0 0 0 0;\n",
              "      width: 32px;\n",
              "    }\n",
              "\n",
              "    .colab-df-convert:hover {\n",
              "      background-color: #E2EBFA;\n",
              "      box-shadow: 0px 1px 2px rgba(60, 64, 67, 0.3), 0px 1px 3px 1px rgba(60, 64, 67, 0.15);\n",
              "      fill: #174EA6;\n",
              "    }\n",
              "\n",
              "    .colab-df-buttons div {\n",
              "      margin-bottom: 4px;\n",
              "    }\n",
              "\n",
              "    [theme=dark] .colab-df-convert {\n",
              "      background-color: #3B4455;\n",
              "      fill: #D2E3FC;\n",
              "    }\n",
              "\n",
              "    [theme=dark] .colab-df-convert:hover {\n",
              "      background-color: #434B5C;\n",
              "      box-shadow: 0px 1px 3px 1px rgba(0, 0, 0, 0.15);\n",
              "      filter: drop-shadow(0px 1px 2px rgba(0, 0, 0, 0.3));\n",
              "      fill: #FFFFFF;\n",
              "    }\n",
              "  </style>\n",
              "\n",
              "    <script>\n",
              "      const buttonEl =\n",
              "        document.querySelector('#df-69ef4ec6-847c-401d-a0d7-f27287faa01a button.colab-df-convert');\n",
              "      buttonEl.style.display =\n",
              "        google.colab.kernel.accessAllowed ? 'block' : 'none';\n",
              "\n",
              "      async function convertToInteractive(key) {\n",
              "        const element = document.querySelector('#df-69ef4ec6-847c-401d-a0d7-f27287faa01a');\n",
              "        const dataTable =\n",
              "          await google.colab.kernel.invokeFunction('convertToInteractive',\n",
              "                                                    [key], {});\n",
              "        if (!dataTable) return;\n",
              "\n",
              "        const docLinkHtml = 'Like what you see? Visit the ' +\n",
              "          '<a target=\"_blank\" href=https://colab.research.google.com/notebooks/data_table.ipynb>data table notebook</a>'\n",
              "          + ' to learn more about interactive tables.';\n",
              "        element.innerHTML = '';\n",
              "        dataTable['output_type'] = 'display_data';\n",
              "        await google.colab.output.renderOutput(dataTable, element);\n",
              "        const docLink = document.createElement('div');\n",
              "        docLink.innerHTML = docLinkHtml;\n",
              "        element.appendChild(docLink);\n",
              "      }\n",
              "    </script>\n",
              "  </div>\n",
              "\n",
              "\n",
              "<div id=\"df-871de03b-514e-44ce-934a-971a2b9baa8e\">\n",
              "  <button class=\"colab-df-quickchart\" onclick=\"quickchart('df-871de03b-514e-44ce-934a-971a2b9baa8e')\"\n",
              "            title=\"Suggest charts\"\n",
              "            style=\"display:none;\">\n",
              "\n",
              "<svg xmlns=\"http://www.w3.org/2000/svg\" height=\"24px\"viewBox=\"0 0 24 24\"\n",
              "     width=\"24px\">\n",
              "    <g>\n",
              "        <path d=\"M19 3H5c-1.1 0-2 .9-2 2v14c0 1.1.9 2 2 2h14c1.1 0 2-.9 2-2V5c0-1.1-.9-2-2-2zM9 17H7v-7h2v7zm4 0h-2V7h2v10zm4 0h-2v-4h2v4z\"/>\n",
              "    </g>\n",
              "</svg>\n",
              "  </button>\n",
              "\n",
              "<style>\n",
              "  .colab-df-quickchart {\n",
              "      --bg-color: #E8F0FE;\n",
              "      --fill-color: #1967D2;\n",
              "      --hover-bg-color: #E2EBFA;\n",
              "      --hover-fill-color: #174EA6;\n",
              "      --disabled-fill-color: #AAA;\n",
              "      --disabled-bg-color: #DDD;\n",
              "  }\n",
              "\n",
              "  [theme=dark] .colab-df-quickchart {\n",
              "      --bg-color: #3B4455;\n",
              "      --fill-color: #D2E3FC;\n",
              "      --hover-bg-color: #434B5C;\n",
              "      --hover-fill-color: #FFFFFF;\n",
              "      --disabled-bg-color: #3B4455;\n",
              "      --disabled-fill-color: #666;\n",
              "  }\n",
              "\n",
              "  .colab-df-quickchart {\n",
              "    background-color: var(--bg-color);\n",
              "    border: none;\n",
              "    border-radius: 50%;\n",
              "    cursor: pointer;\n",
              "    display: none;\n",
              "    fill: var(--fill-color);\n",
              "    height: 32px;\n",
              "    padding: 0;\n",
              "    width: 32px;\n",
              "  }\n",
              "\n",
              "  .colab-df-quickchart:hover {\n",
              "    background-color: var(--hover-bg-color);\n",
              "    box-shadow: 0 1px 2px rgba(60, 64, 67, 0.3), 0 1px 3px 1px rgba(60, 64, 67, 0.15);\n",
              "    fill: var(--button-hover-fill-color);\n",
              "  }\n",
              "\n",
              "  .colab-df-quickchart-complete:disabled,\n",
              "  .colab-df-quickchart-complete:disabled:hover {\n",
              "    background-color: var(--disabled-bg-color);\n",
              "    fill: var(--disabled-fill-color);\n",
              "    box-shadow: none;\n",
              "  }\n",
              "\n",
              "  .colab-df-spinner {\n",
              "    border: 2px solid var(--fill-color);\n",
              "    border-color: transparent;\n",
              "    border-bottom-color: var(--fill-color);\n",
              "    animation:\n",
              "      spin 1s steps(1) infinite;\n",
              "  }\n",
              "\n",
              "  @keyframes spin {\n",
              "    0% {\n",
              "      border-color: transparent;\n",
              "      border-bottom-color: var(--fill-color);\n",
              "      border-left-color: var(--fill-color);\n",
              "    }\n",
              "    20% {\n",
              "      border-color: transparent;\n",
              "      border-left-color: var(--fill-color);\n",
              "      border-top-color: var(--fill-color);\n",
              "    }\n",
              "    30% {\n",
              "      border-color: transparent;\n",
              "      border-left-color: var(--fill-color);\n",
              "      border-top-color: var(--fill-color);\n",
              "      border-right-color: var(--fill-color);\n",
              "    }\n",
              "    40% {\n",
              "      border-color: transparent;\n",
              "      border-right-color: var(--fill-color);\n",
              "      border-top-color: var(--fill-color);\n",
              "    }\n",
              "    60% {\n",
              "      border-color: transparent;\n",
              "      border-right-color: var(--fill-color);\n",
              "    }\n",
              "    80% {\n",
              "      border-color: transparent;\n",
              "      border-right-color: var(--fill-color);\n",
              "      border-bottom-color: var(--fill-color);\n",
              "    }\n",
              "    90% {\n",
              "      border-color: transparent;\n",
              "      border-bottom-color: var(--fill-color);\n",
              "    }\n",
              "  }\n",
              "</style>\n",
              "\n",
              "  <script>\n",
              "    async function quickchart(key) {\n",
              "      const quickchartButtonEl =\n",
              "        document.querySelector('#' + key + ' button');\n",
              "      quickchartButtonEl.disabled = true;  // To prevent multiple clicks.\n",
              "      quickchartButtonEl.classList.add('colab-df-spinner');\n",
              "      try {\n",
              "        const charts = await google.colab.kernel.invokeFunction(\n",
              "            'suggestCharts', [key], {});\n",
              "      } catch (error) {\n",
              "        console.error('Error during call to suggestCharts:', error);\n",
              "      }\n",
              "      quickchartButtonEl.classList.remove('colab-df-spinner');\n",
              "      quickchartButtonEl.classList.add('colab-df-quickchart-complete');\n",
              "    }\n",
              "    (() => {\n",
              "      let quickchartButtonEl =\n",
              "        document.querySelector('#df-871de03b-514e-44ce-934a-971a2b9baa8e button');\n",
              "      quickchartButtonEl.style.display =\n",
              "        google.colab.kernel.accessAllowed ? 'block' : 'none';\n",
              "    })();\n",
              "  </script>\n",
              "</div>\n",
              "    </div>\n",
              "  </div>\n"
            ],
            "application/vnd.google.colaboratory.intrinsic+json": {
              "type": "dataframe",
              "variable_name": "movies",
              "summary": "{\n  \"name\": \"movies\",\n  \"rows\": 9742,\n  \"fields\": [\n    {\n      \"column\": \"movieId\",\n      \"properties\": {\n        \"dtype\": \"string\",\n        \"num_unique_values\": 9742,\n        \"samples\": [\n          \"movie_45635\",\n          \"movie_1373\",\n          \"movie_7325\"\n        ],\n        \"semantic_type\": \"\",\n        \"description\": \"\"\n      }\n    },\n    {\n      \"column\": \"title\",\n      \"properties\": {\n        \"dtype\": \"string\",\n        \"num_unique_values\": 9737,\n        \"samples\": [\n          \"Teenage Mutant Ninja Turtles (2014)\",\n          \"America's Sweethearts (2001)\",\n          \"Cast Away (2000)\"\n        ],\n        \"semantic_type\": \"\",\n        \"description\": \"\"\n      }\n    },\n    {\n      \"column\": \"genres\",\n      \"properties\": {\n        \"dtype\": \"category\",\n        \"num_unique_values\": 951,\n        \"samples\": [\n          \"Crime|Mystery|Romance|Thriller\",\n          \"Action|Adventure|Comedy|Western\",\n          \"Crime|Drama|Musical\"\n        ],\n        \"semantic_type\": \"\",\n        \"description\": \"\"\n      }\n    }\n  ]\n}"
            }
          },
          "metadata": {},
          "execution_count": 35
        }
      ],
      "source": [
        "movies.head()"
      ]
    },
    {
      "cell_type": "markdown",
      "metadata": {
        "id": "1QFFwQKkERad"
      },
      "source": [
        "Implement two utility functions for the `movies` DataFrame."
      ]
    },
    {
      "cell_type": "code",
      "execution_count": null,
      "metadata": {
        "id": "5WI-jTiCERad"
      },
      "outputs": [],
      "source": [
        "\n",
        "def get_movie_title_by_id(movieId):\n",
        "    return list(movies[movies.movieId == movieId].title)[0]\n",
        "\n",
        "\n",
        "def get_movie_id_by_title(title):\n",
        "    return list(movies[movies.title == title].movieId)[0]\n"
      ]
    },
    {
      "cell_type": "markdown",
      "metadata": {
        "id": "PF8AhCa6ERae"
      },
      "source": [
        "## Construct the Movies graph\n",
        "\n",
        "We create an edge between two movie nodes in the graph if both movies are rated\n",
        "by the same user >= `min_rating`.\n",
        "\n",
        "* `xy` is how many users rated both movie `x` and movie `y` with >= `min_rating`.\n",
        "* `x` is how many users rated movie `x` >= `min_rating`.\n",
        "* `y` is how many users rated movie `y` >= `min_rating`.\n",
        "* `D` total number of movie ratings >= `min_rating`."
      ]
    },
    {
      "cell_type": "markdown",
      "metadata": {
        "id": "AcfsgRBEERae"
      },
      "source": [
        "### Step 1: create the weighted edges between movies."
      ]
    },
    {
      "cell_type": "code",
      "execution_count": null,
      "metadata": {
        "colab": {
          "base_uri": "https://localhost:8080/"
        },
        "id": "CruWXhFKERae",
        "outputId": "af369aba-cb7a-4fd4-f014-dcdcd051b98b"
      },
      "outputs": [
        {
          "output_type": "stream",
          "name": "stderr",
          "text": [
            "Compute movie rating frequencies: 100%|██████████| 573/573 [00:00<00:00, 1074.65it/s]\n"
          ]
        }
      ],
      "source": [
        "min_rating = 5\n",
        "pair_frequency = defaultdict(int)\n",
        "item_frequency = defaultdict(int)\n",
        "\n",
        "# Filter instances where rating is greater than or equal to min_rating.\n",
        "rated_movies = ratings[ratings.rating >= min_rating]\n",
        "# Group instances by user.\n",
        "movies_grouped_by_users = list(rated_movies.groupby(\"userId\"))\n",
        "for group in tqdm(\n",
        "    movies_grouped_by_users,\n",
        "    position=0,\n",
        "    leave=True,\n",
        "    desc=\"Compute movie rating frequencies\",\n",
        "):\n",
        "    # Get a list of movies rated by the user.\n",
        "    current_movies = list(group[1][\"movieId\"])\n",
        "\n",
        "    for i in range(len(current_movies)):\n",
        "        item_frequency[current_movies[i]] += 1\n",
        "        for j in range(i + 1, len(current_movies)):\n",
        "            x = min(current_movies[i], current_movies[j])\n",
        "            y = max(current_movies[i], current_movies[j])\n",
        "            pair_frequency[(x, y)] += 1"
      ]
    },
    {
      "cell_type": "markdown",
      "metadata": {
        "id": "G92mcSmAERaf"
      },
      "source": [
        "### Step 2: create the graph with the nodes and the edges\n",
        "\n",
        "To reduce the number of edges between nodes, we only add an edge between movies\n",
        "if the weight of the edge is greater than `min_weight`."
      ]
    },
    {
      "cell_type": "code",
      "execution_count": null,
      "metadata": {
        "colab": {
          "base_uri": "https://localhost:8080/"
        },
        "id": "N29VoftaERaf",
        "outputId": "c755b19e-9234-4274-f011-0b32990a493a"
      },
      "outputs": [
        {
          "output_type": "stream",
          "name": "stderr",
          "text": [
            "Creating the movie graph: 100%|██████████| 298586/298586 [00:00<00:00, 575897.20it/s]\n"
          ]
        }
      ],
      "source": [
        "min_weight =10\n",
        "D = math.log(sum(item_frequency.values()))\n",
        "\n",
        "# Create the movies undirected graph.\n",
        "movies_graph = nx.Graph()\n",
        "# Add weighted edges between movies.\n",
        "# This automatically adds the movie nodes to the graph.\n",
        "for pair in tqdm(\n",
        "    pair_frequency, position=0, leave=True, desc=\"Creating the movie graph\"\n",
        "):\n",
        "    x, y = pair\n",
        "    xy_frequency = pair_frequency[pair]\n",
        "    x_frequency = item_frequency[x]\n",
        "    y_frequency = item_frequency[y]\n",
        "    pmi = math.log(xy_frequency) - math.log(x_frequency) - math.log(y_frequency) + D\n",
        "    weight = pmi * xy_frequency\n",
        "    # Only include edges with weight >= min_weight.\n",
        "    if weight >= min_weight:\n",
        "        movies_graph.add_edge(x, y, weight=weight)"
      ]
    },
    {
      "cell_type": "markdown",
      "metadata": {
        "id": "fgTyEXNpERaf"
      },
      "source": [
        "Let's display the total number of nodes and edges in the graph.\n",
        "Note that the number of nodes is less than the total number of movies,\n",
        "since only the movies that have edges to other movies are added."
      ]
    },
    {
      "cell_type": "code",
      "execution_count": null,
      "metadata": {
        "colab": {
          "base_uri": "https://localhost:8080/"
        },
        "id": "dWSJXO2PERag",
        "outputId": "19cec047-9bc2-44b3-dfc7-a45af73eb5e4"
      },
      "outputs": [
        {
          "output_type": "stream",
          "name": "stdout",
          "text": [
            "Total number of graph nodes: 1405\n",
            "Total number of graph edges: 40043\n"
          ]
        }
      ],
      "source": [
        "print(\"Total number of graph nodes:\", movies_graph.number_of_nodes())\n",
        "print(\"Total number of graph edges:\", movies_graph.number_of_edges())"
      ]
    },
    {
      "cell_type": "markdown",
      "metadata": {
        "id": "-5MbQo5PERag"
      },
      "source": [
        "Let's display the average node degree (number of neighbours) in the graph."
      ]
    },
    {
      "cell_type": "code",
      "execution_count": null,
      "metadata": {
        "colab": {
          "base_uri": "https://localhost:8080/"
        },
        "id": "SnK8SI-JERah",
        "outputId": "4e22a491-6314-4105-9505-a06eabc0bdbf"
      },
      "outputs": [
        {
          "output_type": "stream",
          "name": "stdout",
          "text": [
            "Average node degree: 57.0\n"
          ]
        }
      ],
      "source": [
        "degrees = []\n",
        "for node in movies_graph.nodes:\n",
        "    degrees.append(movies_graph.degree[node])\n",
        "\n",
        "print(\"Average node degree:\", round(sum(degrees) / len(degrees), 2))"
      ]
    },
    {
      "cell_type": "markdown",
      "metadata": {
        "id": "i_MqiU5_ERah"
      },
      "source": [
        "### Step 3: Create vocabulary and a mapping from tokens to integer indices\n",
        "\n",
        "The vocabulary is the nodes (movie IDs) in the graph."
      ]
    },
    {
      "cell_type": "code",
      "execution_count": null,
      "metadata": {
        "id": "HNvAyjRFERah"
      },
      "outputs": [],
      "source": [
        "vocabulary = [\"NA\"] + list(movies_graph.nodes)\n",
        "vocabulary_lookup = {token: idx for idx, token in enumerate(vocabulary)}"
      ]
    },
    {
      "cell_type": "markdown",
      "source": [
        "# **TASK 1:**\n",
        "\n"
      ],
      "metadata": {
        "id": "LUCmvRNlTRrS"
      }
    },
    {
      "cell_type": "markdown",
      "metadata": {
        "id": "nNdndMmNERai"
      },
      "source": [
        "## Implement the biased random walk\n",
        "\n",
        "A random walk starts from a given node, and randomly picks a neighbour node to move to.\n",
        "If the edges are weighted, the neighbour is selected *probabilistically* with\n",
        "respect to weights of the edges between the current node and its neighbours.\n",
        "This procedure is repeated for `num_steps` to generate a sequence of *related* nodes.\n"
      ]
    },
    {
      "cell_type": "code",
      "execution_count": null,
      "metadata": {
        "id": "8yTDlVkaERai"
      },
      "outputs": [],
      "source": [
        "\n",
        "def next_step(graph, previous, current, p, q):\n",
        "    neighbors = list(graph.neighbors(current))\n",
        "\n",
        "    weights = []\n",
        "    # Adjust the weights of the edges to the neighbors with respect to p and q.\n",
        "    for neighbor in neighbors:\n",
        "        if neighbor == previous:\n",
        "            # Control the probability to return to the previous node.\n",
        "            weights.append(graph[current][neighbor][\"weight\"] / p)\n",
        "        elif graph.has_edge(neighbor, previous):\n",
        "            # The probability of visiting a local node.\n",
        "            weights.append(graph[current][neighbor][\"weight\"])\n",
        "        else:\n",
        "            # Control the probability to move forward.\n",
        "            weights.append(graph[current][neighbor][\"weight\"] / q)\n",
        "\n",
        "    # Compute the probabilities of visiting each neighbor.\n",
        "    weight_sum = sum(weights)\n",
        "    probabilities = [weight / weight_sum for weight in weights]\n",
        "    # Probabilistically select a neighbor to visit.\n",
        "    next = np.random.choice(neighbors, size=1, p=probabilities)[0]\n",
        "    return next\n",
        "\n",
        "def random_walk(graph, num_walks, num_steps, p, q):\n",
        "    walks = []\n",
        "    nodes = list(graph.nodes())\n",
        "    # Perform multiple iterations of the random walk.\n",
        "    for walk_iteration in range(num_walks):\n",
        "        random.shuffle(nodes)\n",
        "\n",
        "        for node in tqdm(\n",
        "            nodes,\n",
        "            position=0,\n",
        "            leave=True,\n",
        "            desc=f\"Random walks iteration {walk_iteration + 1} of {num_walks}\",\n",
        "        ):\n",
        "            # Start the walk with a random node from the graph.\n",
        "            walk = [node]\n",
        "            # Randomly walk for num_steps.\n",
        "            while len(walk) < num_steps:\n",
        "                current = walk[-1]\n",
        "                previous = walk[-2] if len(walk) > 1 else None\n",
        "                # Compute the next node to visit.\n",
        "                next = next_step(graph, previous, current, p, q)\n",
        "                walk.append(next)\n",
        "            # Replace node ids (movie ids) in the walk with token ids.\n",
        "            walk = [vocabulary_lookup[token] for token in walk]\n",
        "            # Add the walk to the generated sequence.\n",
        "            walks.append(walk)\n",
        "\n",
        "    return walks\n"
      ]
    },
    {
      "cell_type": "markdown",
      "metadata": {
        "id": "6n_slkC0ERai"
      },
      "source": [
        "## Generate training data using the biased random walk\n",
        "\n",
        "You can explore different configurations of `p` and `q` to different results of\n",
        "related movies."
      ]
    },
    {
      "cell_type": "code",
      "execution_count": null,
      "metadata": {
        "colab": {
          "base_uri": "https://localhost:8080/"
        },
        "id": "eLykMMPaERaj",
        "outputId": "def1f361-5c2a-41f4-f82e-03bc81b4689c"
      },
      "outputs": [
        {
          "output_type": "stream",
          "name": "stderr",
          "text": [
            "Random walks iteration 1 of 5: 100%|██████████| 1405/1405 [00:06<00:00, 220.25it/s]\n",
            "Random walks iteration 2 of 5: 100%|██████████| 1405/1405 [00:05<00:00, 270.15it/s]\n",
            "Random walks iteration 3 of 5: 100%|██████████| 1405/1405 [00:06<00:00, 227.70it/s]\n",
            "Random walks iteration 4 of 5: 100%|██████████| 1405/1405 [00:05<00:00, 271.29it/s]\n",
            "Random walks iteration 5 of 5: 100%|██████████| 1405/1405 [00:06<00:00, 232.17it/s]"
          ]
        },
        {
          "output_type": "stream",
          "name": "stdout",
          "text": [
            "Number of walks generated: 7025\n"
          ]
        },
        {
          "output_type": "stream",
          "name": "stderr",
          "text": [
            "\n"
          ]
        }
      ],
      "source": [
        "# Random walk return parameter.\n",
        "p = 1\n",
        "# Random walk in-out parameter.\n",
        "q = 1\n",
        "# Number of iterations of random walks.\n",
        "num_walks = 5\n",
        "# Number of steps of each random walk.\n",
        "num_steps = 10\n",
        "walks = random_walk(movies_graph, num_walks, num_steps, p, q)\n",
        "print(\"Number of walks generated:\", len(walks))"
      ]
    },
    {
      "cell_type": "markdown",
      "metadata": {
        "id": "QVKl5vLwERaj"
      },
      "source": [
        "## Generate positive and negative examples\n",
        "\n",
        "To train a skip-gram model, we use the generated walks to create positive and\n",
        "negative training examples. Each example includes the following features:\n",
        "\n",
        "1. `target`: A movie in a walk sequence.\n",
        "2. `context`: Another movie in a walk sequence.\n",
        "3. `weight`: How many times these two movies occurred in walk sequences.\n",
        "4. `label`: The label is 1 if these two movies are samples from the walk sequences,\n",
        "otherwise (i.e., if randomly sampled) the label is 0."
      ]
    },
    {
      "cell_type": "markdown",
      "source": [
        "# **TASK 2:**"
      ],
      "metadata": {
        "id": "54AVEz92TsTm"
      }
    },
    {
      "cell_type": "markdown",
      "metadata": {
        "id": "sMpYkZdnERaj"
      },
      "source": [
        "### Generate examples"
      ]
    },
    {
      "cell_type": "code",
      "execution_count": null,
      "metadata": {
        "colab": {
          "base_uri": "https://localhost:8080/"
        },
        "id": "7tNGPCrRERaj",
        "outputId": "e7d80bfd-8f2c-4b69-9c0e-ef8ad652cf83"
      },
      "outputs": [
        {
          "output_type": "stream",
          "name": "stderr",
          "text": [
            "Generating positive and negative examples: 100%|██████████| 7025/7025 [00:10<00:00, 672.40it/s]\n"
          ]
        }
      ],
      "source": [
        "\n",
        "def generate_examples(sequences, window_size, num_negative_samples, vocabulary_size):\n",
        "    example_weights = defaultdict(int)\n",
        "    # Iterate over all sequences (walks).\n",
        "    for sequence in tqdm(\n",
        "        sequences,\n",
        "        position=0,\n",
        "        leave=True,\n",
        "        desc=f\"Generating positive and negative examples\",\n",
        "    ):\n",
        "        # Generate positive and negative skip-gram pairs for a sequence (walk).\n",
        "        pairs, labels = keras.preprocessing.sequence.skipgrams(\n",
        "            sequence,\n",
        "            vocabulary_size=vocabulary_size,\n",
        "            window_size=window_size,\n",
        "            negative_samples=num_negative_samples,\n",
        "        )\n",
        "        for idx in range(len(pairs)):\n",
        "            pair = pairs[idx]\n",
        "            label = labels[idx]\n",
        "            target, context = min(pair[0], pair[1]), max(pair[0], pair[1])\n",
        "            if target == context:\n",
        "                continue\n",
        "            entry = (target, context, label)\n",
        "            example_weights[entry] += 1\n",
        "\n",
        "    targets, contexts, labels, weights = [], [], [], []\n",
        "    for entry in example_weights:\n",
        "        weight = example_weights[entry]\n",
        "        target, context, label = entry\n",
        "        targets.append(target)\n",
        "        contexts.append(context)\n",
        "        labels.append(label)\n",
        "        weights.append(weight)\n",
        "\n",
        "    return np.array(targets), np.array(contexts), np.array(labels), np.array(weights)\n",
        "\n",
        "\n",
        "num_negative_samples = 4\n",
        "targets, contexts, labels, weights = generate_examples(\n",
        "    sequences=walks,\n",
        "    window_size=num_steps,\n",
        "    num_negative_samples=num_negative_samples,\n",
        "    vocabulary_size=len(vocabulary),\n",
        ")"
      ]
    },
    {
      "cell_type": "markdown",
      "metadata": {
        "id": "sAHLSORTERak"
      },
      "source": [
        "Let's display the shapes of the outputs"
      ]
    },
    {
      "cell_type": "code",
      "execution_count": null,
      "metadata": {
        "colab": {
          "base_uri": "https://localhost:8080/"
        },
        "id": "jF6Vso79ERak",
        "outputId": "383362e8-babc-4a88-970b-9192092a5be5"
      },
      "outputs": [
        {
          "output_type": "stream",
          "name": "stdout",
          "text": [
            "Targets shape: (881096,)\n",
            "Contexts shape: (881096,)\n",
            "Labels shape: (881096,)\n",
            "Weights shape: (881096,)\n"
          ]
        }
      ],
      "source": [
        "print(f\"Targets shape: {targets.shape}\")\n",
        "print(f\"Contexts shape: {contexts.shape}\")\n",
        "print(f\"Labels shape: {labels.shape}\")\n",
        "print(f\"Weights shape: {weights.shape}\")"
      ]
    },
    {
      "cell_type": "markdown",
      "metadata": {
        "id": "w-3QN3dIERal"
      },
      "source": [
        "### Convert the data into `tf.data.Dataset` objects"
      ]
    },
    {
      "cell_type": "code",
      "execution_count": null,
      "metadata": {
        "id": "KHI8qZ7sERal"
      },
      "outputs": [],
      "source": [
        "batch_size = 1024\n",
        "\n",
        "\n",
        "def create_dataset(targets, contexts, labels, weights, batch_size):\n",
        "    inputs = {\n",
        "        \"target\": targets,\n",
        "        \"context\": contexts,\n",
        "    }\n",
        "    dataset = tf.data.Dataset.from_tensor_slices((inputs, labels, weights))\n",
        "    dataset = dataset.shuffle(buffer_size=batch_size * 2)\n",
        "    dataset = dataset.batch(batch_size, drop_remainder=True)\n",
        "    dataset = dataset.prefetch(tf.data.AUTOTUNE)\n",
        "    return dataset\n",
        "\n",
        "\n",
        "dataset = create_dataset(\n",
        "    targets=targets,\n",
        "    contexts=contexts,\n",
        "    labels=labels,\n",
        "    weights=weights,\n",
        "    batch_size=batch_size,\n",
        ")"
      ]
    },
    {
      "cell_type": "markdown",
      "metadata": {
        "id": "ZGC4i3AWERal"
      },
      "source": [
        "## Train the skip-gram model\n",
        "\n",
        "Our skip-gram is a simple binary classification model that works as follows:\n",
        "\n",
        "1. An embedding is looked up for the `target` movie.\n",
        "2. An embedding is looked up for the `context` movie.\n",
        "3. The dot product is computed between these two embeddings.\n",
        "4. The result (after a sigmoid activation) is compared to the label.\n",
        "5. A binary crossentropy loss is used."
      ]
    },
    {
      "cell_type": "code",
      "execution_count": null,
      "metadata": {
        "id": "EAL7zh2pERal"
      },
      "outputs": [],
      "source": [
        "learning_rate = 0.001\n",
        "embedding_dim = 50\n",
        "num_epochs = 10"
      ]
    },
    {
      "cell_type": "markdown",
      "metadata": {
        "id": "0vGDNPKvERam"
      },
      "source": [
        "### Implement the model"
      ]
    },
    {
      "cell_type": "code",
      "execution_count": null,
      "metadata": {
        "id": "-oerKsqKERar"
      },
      "outputs": [],
      "source": [
        "\n",
        "def Word2Vec(vocabulary_size, embedding_dim):\n",
        "\n",
        "    inputs = {\n",
        "        \"target\": layers.Input(name=\"target\", shape=(), dtype=\"int32\"),\n",
        "        \"context\": layers.Input(name=\"context\", shape=(), dtype=\"int32\"),\n",
        "    }\n",
        "    # Initialize item embeddings.\n",
        "    embed_item = layers.Embedding(\n",
        "        input_dim=vocabulary_size,\n",
        "        output_dim=embedding_dim,\n",
        "        embeddings_initializer=\"he_normal\",\n",
        "        embeddings_regularizer=keras.regularizers.l2(1e-6),\n",
        "        name=\"item_embeddings\",\n",
        "    )\n",
        "    # Lookup embeddings for target.\n",
        "    target_embeddings = embed_item(inputs[\"target\"])\n",
        "    # Lookup embeddings for context.\n",
        "    context_embeddings = embed_item(inputs[\"context\"])\n",
        "    # Compute dot similarity between target and context embeddings.\n",
        "    logits = layers.Dot(axes=1, normalize=False, name=\"dot_similarity\")(\n",
        "        [target_embeddings, context_embeddings]\n",
        "    )\n",
        "    # Create the model.\n",
        "    model = keras.Model(inputs=inputs, outputs=logits)\n",
        "    return model\n"
      ]
    },
    {
      "cell_type": "markdown",
      "metadata": {
        "id": "0DCSZBVhERas"
      },
      "source": [
        "### Train the model"
      ]
    },
    {
      "cell_type": "markdown",
      "metadata": {
        "id": "fkSb317eERas"
      },
      "source": [
        "We instantiate the model and compile it."
      ]
    },
    {
      "cell_type": "code",
      "execution_count": null,
      "metadata": {
        "id": "yz_aIrklERas"
      },
      "outputs": [],
      "source": [
        "model = Word2Vec(len(vocabulary), embedding_dim)\n",
        "model.compile(\n",
        "    optimizer=keras.optimizers.Adam(learning_rate),\n",
        "    loss=keras.losses.BinaryCrossentropy(from_logits=True),\n",
        ")"
      ]
    },
    {
      "cell_type": "markdown",
      "metadata": {
        "id": "87mjvnqZERas"
      },
      "source": [
        "Let's plot the model."
      ]
    },
    {
      "cell_type": "code",
      "execution_count": null,
      "metadata": {
        "colab": {
          "base_uri": "https://localhost:8080/",
          "height": 404
        },
        "collapsed": true,
        "id": "-jRjf87kERas",
        "outputId": "970e765d-6b4e-4aa4-dacc-9c96ed044025"
      },
      "outputs": [
        {
          "output_type": "execute_result",
          "data": {
            "image/png": "[encoded data removed]",
            "text/plain": [
              "<IPython.core.display.Image object>"
            ]
          },
          "metadata": {},
          "execution_count": 50
        }
      ],
      "source": [
        "keras.utils.plot_model(\n",
        "    model,\n",
        "    show_shapes=True,\n",
        "    show_dtype=True,\n",
        "    show_layer_names=True,\n",
        ")"
      ]
    },
    {
      "cell_type": "markdown",
      "metadata": {
        "id": "XIEm1O47ERat"
      },
      "source": [
        "Now we train the model on the `dataset`."
      ]
    },
    {
      "cell_type": "code",
      "execution_count": null,
      "metadata": {
        "colab": {
          "base_uri": "https://localhost:8080/"
        },
        "id": "GxuNsSPBERat",
        "outputId": "4745b4a0-35c6-4e0f-9ef9-b2946bdc5bea"
      },
      "outputs": [
        {
          "output_type": "stream",
          "name": "stdout",
          "text": [
            "Epoch 1/10\n",
            "860/860 [==============================] - 6s 6ms/step - loss: 2.4526\n",
            "Epoch 2/10\n",
            "860/860 [==============================] - 5s 6ms/step - loss: 2.3432\n",
            "Epoch 3/10\n",
            "860/860 [==============================] - 7s 8ms/step - loss: 2.3363\n",
            "Epoch 4/10\n",
            "860/860 [==============================] - 5s 6ms/step - loss: 2.3327\n",
            "Epoch 5/10\n",
            "860/860 [==============================] - 7s 8ms/step - loss: 2.3287\n",
            "Epoch 6/10\n",
            "860/860 [==============================] - 7s 8ms/step - loss: 2.3243\n",
            "Epoch 7/10\n",
            "860/860 [==============================] - 7s 8ms/step - loss: 2.3208\n",
            "Epoch 8/10\n",
            "860/860 [==============================] - 12s 14ms/step - loss: 2.3179\n",
            "Epoch 9/10\n",
            "860/860 [==============================] - 8s 10ms/step - loss: 2.3155\n",
            "Epoch 10/10\n",
            "860/860 [==============================] - 7s 8ms/step - loss: 2.3132\n"
          ]
        }
      ],
      "source": [
        "history = model.fit(dataset, epochs=num_epochs)"
      ]
    },
    {
      "cell_type": "markdown",
      "metadata": {
        "id": "V8LYcH-7ERat"
      },
      "source": [
        "Finally we plot the learning history."
      ]
    },
    {
      "cell_type": "code",
      "execution_count": null,
      "metadata": {
        "colab": {
          "base_uri": "https://localhost:8080/",
          "height": 449
        },
        "id": "I36WPFVTERat",
        "outputId": "112c2bd8-2969-43cd-beef-05c63895b7a6"
      },
      "outputs": [
        {
          "output_type": "display_data",
          "data": {
            "text/plain": [
              "<Figure size 640x480 with 1 Axes>"
            ],
            "image/png": "[encoded data removed]"
          },
          "metadata": {}
        }
      ],
      "source": [
        "plt.plot(history.history[\"loss\"])\n",
        "plt.ylabel(\"loss\")\n",
        "plt.xlabel(\"epoch\")\n",
        "plt.show()"
      ]
    },
    {
      "cell_type": "markdown",
      "metadata": {
        "id": "lAuTJBasERat"
      },
      "source": [
        "## Analyze the learnt embeddings."
      ]
    },
    {
      "cell_type": "code",
      "execution_count": null,
      "metadata": {
        "colab": {
          "base_uri": "https://localhost:8080/"
        },
        "id": "k9hc261wERau",
        "outputId": "3af466bc-e1a5-44a6-c97e-e4f990b68104"
      },
      "outputs": [
        {
          "output_type": "stream",
          "name": "stdout",
          "text": [
            "Embeddings shape: (1406, 50)\n"
          ]
        }
      ],
      "source": [
        "movie_embeddings = model.get_layer(\"item_embeddings\").get_weights()[0]\n",
        "print(\"Embeddings shape:\", movie_embeddings.shape)"
      ]
    },
    {
      "cell_type": "markdown",
      "source": [
        "# **TASK 4:**"
      ],
      "metadata": {
        "id": "m9wXWn6bURWi"
      }
    },
    {
      "cell_type": "markdown",
      "metadata": {
        "id": "nhZynimgERau"
      },
      "source": [
        "### Find related movies\n",
        "\n",
        "Define a list with some movies."
      ]
    },
    {
      "cell_type": "code",
      "execution_count": null,
      "metadata": {
        "id": "NcKGED0jERau"
      },
      "outputs": [],
      "source": [
        "query_movies = [\n",
        "    \"Matrix, The (1999)\",\n",
        "    \"Star Wars: Episode IV - A New Hope (1977)\",\n",
        "    \"Lion King, The (1994)\",\n",
        "    \"Terminator 2: Judgment Day (1991)\",\n",
        "    \"Godfather, The (1972)\",\n",
        "]"
      ]
    },
    {
      "cell_type": "markdown",
      "metadata": {
        "id": "ecCQmXy5ERax"
      },
      "source": [
        "Get the embeddings of the movies in `query_movies`."
      ]
    },
    {
      "cell_type": "code",
      "execution_count": null,
      "metadata": {
        "id": "Iyca9nmUERay"
      },
      "outputs": [],
      "source": [
        "query_embeddings = []\n",
        "\n",
        "for movie_title in query_movies:\n",
        "    movieId = get_movie_id_by_title(movie_title)\n",
        "    token_id = vocabulary_lookup[movieId]\n",
        "    movie_embedding = movie_embeddings[token_id]\n",
        "    query_embeddings.append(movie_embedding)\n",
        "\n",
        "query_embeddings = np.array(query_embeddings)"
      ]
    },
    {
      "cell_type": "markdown",
      "metadata": {
        "id": "9ipFFBE4ERay"
      },
      "source": [
        "Compute the consine similarity"
      ]
    },
    {
      "cell_type": "code",
      "execution_count": null,
      "metadata": {
        "id": "LBiUkYdnERaz"
      },
      "outputs": [],
      "source": [
        "similarities = tf.linalg.matmul(\n",
        "    tf.math.l2_normalize(query_embeddings),\n",
        "    tf.math.l2_normalize(movie_embeddings),\n",
        "    transpose_b=True,\n",
        ")\n",
        "\n",
        "_, indices = tf.math.top_k(similarities, k=5)\n",
        "indices = indices.numpy().tolist()"
      ]
    },
    {
      "cell_type": "markdown",
      "metadata": {
        "id": "x3Pz61HUERaz"
      },
      "source": [
        "Display the top related movies in `query_movies`."
      ]
    },
    {
      "cell_type": "code",
      "execution_count": null,
      "metadata": {
        "colab": {
          "base_uri": "https://localhost:8080/"
        },
        "id": "Ls8pmgpnERaz",
        "outputId": "2f4684c3-3ebb-4fbf-da55-377f3ca90d05"
      },
      "outputs": [
        {
          "output_type": "stream",
          "name": "stdout",
          "text": [
            "Matrix, The (1999)\n",
            "------------------\n",
            "- Matrix, The (1999)\n",
            "- Lord of the Rings: The Fellowship of the Ring, The (2001)\n",
            "- Fight Club (1999)\n",
            "- Silence of the Lambs, The (1991)\n",
            "- Monty Python and the Holy Grail (1975)\n",
            "\n",
            "Star Wars: Episode IV - A New Hope (1977)\n",
            "-----------------------------------------\n",
            "- Silence of the Lambs, The (1991)\n",
            "- Matrix, The (1999)\n",
            "- Star Wars: Episode IV - A New Hope (1977)\n",
            "- Fight Club (1999)\n",
            "- Monty Python and the Holy Grail (1975)\n",
            "\n",
            "Lion King, The (1994)\n",
            "---------------------\n",
            "- Lion King, The (1994)\n",
            "- Aladdin (1992)\n",
            "- Apollo 13 (1995)\n",
            "- Beauty and the Beast (1991)\n",
            "- Mrs. Doubtfire (1993)\n",
            "\n",
            "Terminator 2: Judgment Day (1991)\n",
            "---------------------------------\n",
            "- Terminator 2: Judgment Day (1991)\n",
            "- Braveheart (1995)\n",
            "- Fugitive, The (1993)\n",
            "- Apollo 13 (1995)\n",
            "- Forrest Gump (1994)\n",
            "\n",
            "Godfather, The (1972)\n",
            "---------------------\n",
            "- Monty Python and the Holy Grail (1975)\n",
            "- Godfather, The (1972)\n",
            "- Apocalypse Now (1979)\n",
            "- Casablanca (1942)\n",
            "- Matrix, The (1999)\n",
            "\n"
          ]
        }
      ],
      "source": [
        "for idx, title in enumerate(query_movies):\n",
        "    print(title)\n",
        "    print(\"\".rjust(len(title), \"-\"))\n",
        "    similar_tokens = indices[idx]\n",
        "    for token in similar_tokens:\n",
        "        similar_movieId = vocabulary[token]\n",
        "        similar_title = get_movie_title_by_id(similar_movieId)\n",
        "        print(f\"- {similar_title}\")\n",
        "    print()"
      ]
    }
  ],
  "metadata": {
    "accelerator": "GPU",
    "colab": {
      "provenance": [],
      "collapsed_sections": [
        "nNdndMmNERai"
      ],
      "include_colab_link": true
    },
    "kernelspec": {
      "display_name": "Python 3",
      "language": "python",
      "name": "python3"
    },
    "language_info": {
      "codemirror_mode": {
        "name": "ipython",
        "version": 3
      },
      "file_extension": ".py",
      "mimetype": "text/x-python",
      "name": "python",
      "nbconvert_exporter": "python",
      "pygments_lexer": "ipython3",
      "version": "3.7.0"
    }
  },
  "nbformat": 4,
  "nbformat_minor": 0
}